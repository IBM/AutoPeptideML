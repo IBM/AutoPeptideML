{
 "cells": [
  {
   "cell_type": "code",
   "execution_count": null,
   "id": "48416f71",
   "metadata": {},
   "outputs": [
    {
     "name": "stdout",
     "output_type": "stream",
     "text": [
      "Processing /Users/raulfd/Projects/Peptides/APML_Project/AutoPeptideML\n",
      "  Preparing metadata (setup.py) ... \u001b[?25ldone\n",
      "\u001b[?25hRequirement already satisfied: optuna in /Users/raulfd/miniconda3/envs/pep2/lib/python3.12/site-packages (from autopeptideml==2.0.2) (4.4.0)\n",
      "Requirement already satisfied: scikit-learn in /Users/raulfd/miniconda3/envs/pep2/lib/python3.12/site-packages (from autopeptideml==2.0.2) (1.7.0)\n",
      "Requirement already satisfied: typer in /Users/raulfd/miniconda3/envs/pep2/lib/python3.12/site-packages (from autopeptideml==2.0.2) (0.16.0)\n",
      "Requirement already satisfied: tokenizers in /Users/raulfd/miniconda3/envs/pep2/lib/python3.12/site-packages (from autopeptideml==2.0.2) (0.21.1)\n",
      "Requirement already satisfied: torch in /Users/raulfd/miniconda3/envs/pep2/lib/python3.12/site-packages (from autopeptideml==2.0.2) (2.7.1)\n",
      "Requirement already satisfied: transformers in /Users/raulfd/miniconda3/envs/pep2/lib/python3.12/site-packages (from autopeptideml==2.0.2) (4.52.4)\n",
      "Requirement already satisfied: lightgbm in /Users/raulfd/miniconda3/envs/pep2/lib/python3.12/site-packages (from autopeptideml==2.0.2) (4.6.0)\n",
      "Requirement already satisfied: xgboost in /Users/raulfd/miniconda3/envs/pep2/lib/python3.12/site-packages (from autopeptideml==2.0.2) (3.0.2)\n",
      "Requirement already satisfied: seaborn in /Users/raulfd/miniconda3/envs/pep2/lib/python3.12/site-packages (from autopeptideml==2.0.2) (0.13.2)\n",
      "Requirement already satisfied: hestia-good in /Users/raulfd/miniconda3/envs/pep2/lib/python3.12/site-packages (from autopeptideml==2.0.2) (1.0.1)\n",
      "Requirement already satisfied: onnxmltools in /Users/raulfd/miniconda3/envs/pep2/lib/python3.12/site-packages (from autopeptideml==2.0.2) (1.14.0)\n",
      "Requirement already satisfied: skl2onnx in /Users/raulfd/miniconda3/envs/pep2/lib/python3.12/site-packages (from autopeptideml==2.0.2) (1.19.1)\n",
      "Requirement already satisfied: onnxruntime in /Users/raulfd/miniconda3/envs/pep2/lib/python3.12/site-packages (from autopeptideml==2.0.2) (1.22.1)\n",
      "Requirement already satisfied: rdkit in /Users/raulfd/miniconda3/envs/pep2/lib/python3.12/site-packages (from autopeptideml==2.0.2) (2025.3.3)\n",
      "Requirement already satisfied: quarto in /Users/raulfd/miniconda3/envs/pep2/lib/python3.12/site-packages (from autopeptideml==2.0.2) (0.1.0)\n",
      "Requirement already satisfied: mapchiral in /Users/raulfd/miniconda3/envs/pep2/lib/python3.12/site-packages (from autopeptideml==2.0.2) (0.0.7)\n",
      "Requirement already satisfied: tabulate in /Users/raulfd/miniconda3/envs/pep2/lib/python3.12/site-packages (from autopeptideml==2.0.2) (0.9.0)\n",
      "Requirement already satisfied: scipy in /Users/raulfd/miniconda3/envs/pep2/lib/python3.12/site-packages (from hestia-good->autopeptideml==2.0.2) (1.13.1)\n",
      "Requirement already satisfied: pandas in /Users/raulfd/miniconda3/envs/pep2/lib/python3.12/site-packages (from hestia-good->autopeptideml==2.0.2) (2.3.0)\n",
      "Requirement already satisfied: polars in /Users/raulfd/miniconda3/envs/pep2/lib/python3.12/site-packages (from hestia-good->autopeptideml==2.0.2) (1.30.0)\n",
      "Requirement already satisfied: numpy in /Users/raulfd/miniconda3/envs/pep2/lib/python3.12/site-packages (from hestia-good->autopeptideml==2.0.2) (1.26.4)\n",
      "Requirement already satisfied: tqdm in /Users/raulfd/miniconda3/envs/pep2/lib/python3.12/site-packages (from hestia-good->autopeptideml==2.0.2) (4.67.1)\n",
      "Requirement already satisfied: pyarrow in /Users/raulfd/miniconda3/envs/pep2/lib/python3.12/site-packages (from hestia-good->autopeptideml==2.0.2) (20.0.0)\n",
      "Requirement already satisfied: onnx in /Users/raulfd/miniconda3/envs/pep2/lib/python3.12/site-packages (from onnxmltools->autopeptideml==2.0.2) (1.18.0)\n",
      "Requirement already satisfied: protobuf>=4.25.1 in /Users/raulfd/miniconda3/envs/pep2/lib/python3.12/site-packages (from onnx->onnxmltools->autopeptideml==2.0.2) (6.31.1)\n",
      "Requirement already satisfied: typing_extensions>=4.7.1 in /Users/raulfd/miniconda3/envs/pep2/lib/python3.12/site-packages (from onnx->onnxmltools->autopeptideml==2.0.2) (4.14.0)\n",
      "Requirement already satisfied: coloredlogs in /Users/raulfd/miniconda3/envs/pep2/lib/python3.12/site-packages (from onnxruntime->autopeptideml==2.0.2) (15.0.1)\n",
      "Requirement already satisfied: flatbuffers in /Users/raulfd/miniconda3/envs/pep2/lib/python3.12/site-packages (from onnxruntime->autopeptideml==2.0.2) (25.2.10)\n",
      "Requirement already satisfied: packaging in /Users/raulfd/miniconda3/envs/pep2/lib/python3.12/site-packages (from onnxruntime->autopeptideml==2.0.2) (25.0)\n",
      "Requirement already satisfied: sympy in /Users/raulfd/miniconda3/envs/pep2/lib/python3.12/site-packages (from onnxruntime->autopeptideml==2.0.2) (1.14.0)\n",
      "Requirement already satisfied: humanfriendly>=9.1 in /Users/raulfd/miniconda3/envs/pep2/lib/python3.12/site-packages (from coloredlogs->onnxruntime->autopeptideml==2.0.2) (10.0)\n",
      "Requirement already satisfied: alembic>=1.5.0 in /Users/raulfd/miniconda3/envs/pep2/lib/python3.12/site-packages (from optuna->autopeptideml==2.0.2) (1.16.2)\n",
      "Requirement already satisfied: colorlog in /Users/raulfd/miniconda3/envs/pep2/lib/python3.12/site-packages (from optuna->autopeptideml==2.0.2) (6.9.0)\n",
      "Requirement already satisfied: sqlalchemy>=1.4.2 in /Users/raulfd/miniconda3/envs/pep2/lib/python3.12/site-packages (from optuna->autopeptideml==2.0.2) (2.0.41)\n",
      "Requirement already satisfied: PyYAML in /Users/raulfd/miniconda3/envs/pep2/lib/python3.12/site-packages (from optuna->autopeptideml==2.0.2) (6.0.2)\n",
      "Requirement already satisfied: Mako in /Users/raulfd/miniconda3/envs/pep2/lib/python3.12/site-packages (from alembic>=1.5.0->optuna->autopeptideml==2.0.2) (1.3.10)\n",
      "Requirement already satisfied: MarkupSafe>=0.9.2 in /Users/raulfd/miniconda3/envs/pep2/lib/python3.12/site-packages (from Mako->alembic>=1.5.0->optuna->autopeptideml==2.0.2) (3.0.2)\n",
      "Requirement already satisfied: python-dateutil>=2.8.2 in /Users/raulfd/miniconda3/envs/pep2/lib/python3.12/site-packages (from pandas->hestia-good->autopeptideml==2.0.2) (2.9.0.post0)\n",
      "Requirement already satisfied: pytz>=2020.1 in /Users/raulfd/miniconda3/envs/pep2/lib/python3.12/site-packages (from pandas->hestia-good->autopeptideml==2.0.2) (2025.2)\n",
      "Requirement already satisfied: tzdata>=2022.7 in /Users/raulfd/miniconda3/envs/pep2/lib/python3.12/site-packages (from pandas->hestia-good->autopeptideml==2.0.2) (2025.2)\n",
      "Requirement already satisfied: six>=1.5 in /Users/raulfd/miniconda3/envs/pep2/lib/python3.12/site-packages (from python-dateutil>=2.8.2->pandas->hestia-good->autopeptideml==2.0.2) (1.17.0)\n",
      "Requirement already satisfied: jupyter-core in /Users/raulfd/miniconda3/envs/pep2/lib/python3.12/site-packages (from quarto->autopeptideml==2.0.2) (5.8.1)\n",
      "Requirement already satisfied: nbformat in /Users/raulfd/miniconda3/envs/pep2/lib/python3.12/site-packages (from quarto->autopeptideml==2.0.2) (5.10.4)\n",
      "Requirement already satisfied: nbclient in /Users/raulfd/miniconda3/envs/pep2/lib/python3.12/site-packages (from quarto->autopeptideml==2.0.2) (0.10.2)\n",
      "Requirement already satisfied: ipykernel in /Users/raulfd/miniconda3/envs/pep2/lib/python3.12/site-packages (from quarto->autopeptideml==2.0.2) (6.29.5)\n",
      "Requirement already satisfied: appnope in /Users/raulfd/miniconda3/envs/pep2/lib/python3.12/site-packages (from ipykernel->quarto->autopeptideml==2.0.2) (0.1.4)\n",
      "Requirement already satisfied: comm>=0.1.1 in /Users/raulfd/miniconda3/envs/pep2/lib/python3.12/site-packages (from ipykernel->quarto->autopeptideml==2.0.2) (0.2.2)\n",
      "Requirement already satisfied: debugpy>=1.6.5 in /Users/raulfd/miniconda3/envs/pep2/lib/python3.12/site-packages (from ipykernel->quarto->autopeptideml==2.0.2) (1.8.14)\n",
      "Requirement already satisfied: ipython>=7.23.1 in /Users/raulfd/miniconda3/envs/pep2/lib/python3.12/site-packages (from ipykernel->quarto->autopeptideml==2.0.2) (9.3.0)\n",
      "Requirement already satisfied: jupyter-client>=6.1.12 in /Users/raulfd/miniconda3/envs/pep2/lib/python3.12/site-packages (from ipykernel->quarto->autopeptideml==2.0.2) (8.6.3)\n",
      "Requirement already satisfied: matplotlib-inline>=0.1 in /Users/raulfd/miniconda3/envs/pep2/lib/python3.12/site-packages (from ipykernel->quarto->autopeptideml==2.0.2) (0.1.7)\n",
      "Requirement already satisfied: nest-asyncio in /Users/raulfd/miniconda3/envs/pep2/lib/python3.12/site-packages (from ipykernel->quarto->autopeptideml==2.0.2) (1.6.0)\n",
      "Requirement already satisfied: psutil in /Users/raulfd/miniconda3/envs/pep2/lib/python3.12/site-packages (from ipykernel->quarto->autopeptideml==2.0.2) (7.0.0)\n",
      "Requirement already satisfied: pyzmq>=24 in /Users/raulfd/miniconda3/envs/pep2/lib/python3.12/site-packages (from ipykernel->quarto->autopeptideml==2.0.2) (27.0.0)\n",
      "Requirement already satisfied: tornado>=6.1 in /Users/raulfd/miniconda3/envs/pep2/lib/python3.12/site-packages (from ipykernel->quarto->autopeptideml==2.0.2) (6.5.1)\n",
      "Requirement already satisfied: traitlets>=5.4.0 in /Users/raulfd/miniconda3/envs/pep2/lib/python3.12/site-packages (from ipykernel->quarto->autopeptideml==2.0.2) (5.14.3)\n",
      "Requirement already satisfied: decorator in /Users/raulfd/miniconda3/envs/pep2/lib/python3.12/site-packages (from ipython>=7.23.1->ipykernel->quarto->autopeptideml==2.0.2) (5.2.1)\n",
      "Requirement already satisfied: ipython-pygments-lexers in /Users/raulfd/miniconda3/envs/pep2/lib/python3.12/site-packages (from ipython>=7.23.1->ipykernel->quarto->autopeptideml==2.0.2) (1.1.1)\n",
      "Requirement already satisfied: jedi>=0.16 in /Users/raulfd/miniconda3/envs/pep2/lib/python3.12/site-packages (from ipython>=7.23.1->ipykernel->quarto->autopeptideml==2.0.2) (0.19.2)\n",
      "Requirement already satisfied: pexpect>4.3 in /Users/raulfd/miniconda3/envs/pep2/lib/python3.12/site-packages (from ipython>=7.23.1->ipykernel->quarto->autopeptideml==2.0.2) (4.9.0)\n",
      "Requirement already satisfied: prompt_toolkit<3.1.0,>=3.0.41 in /Users/raulfd/miniconda3/envs/pep2/lib/python3.12/site-packages (from ipython>=7.23.1->ipykernel->quarto->autopeptideml==2.0.2) (3.0.51)\n",
      "Requirement already satisfied: pygments>=2.4.0 in /Users/raulfd/miniconda3/envs/pep2/lib/python3.12/site-packages (from ipython>=7.23.1->ipykernel->quarto->autopeptideml==2.0.2) (2.19.1)\n",
      "Requirement already satisfied: stack_data in /Users/raulfd/miniconda3/envs/pep2/lib/python3.12/site-packages (from ipython>=7.23.1->ipykernel->quarto->autopeptideml==2.0.2) (0.6.3)\n",
      "Requirement already satisfied: wcwidth in /Users/raulfd/miniconda3/envs/pep2/lib/python3.12/site-packages (from prompt_toolkit<3.1.0,>=3.0.41->ipython>=7.23.1->ipykernel->quarto->autopeptideml==2.0.2) (0.2.13)\n",
      "Requirement already satisfied: parso<0.9.0,>=0.8.4 in /Users/raulfd/miniconda3/envs/pep2/lib/python3.12/site-packages (from jedi>=0.16->ipython>=7.23.1->ipykernel->quarto->autopeptideml==2.0.2) (0.8.4)\n",
      "Requirement already satisfied: platformdirs>=2.5 in /Users/raulfd/miniconda3/envs/pep2/lib/python3.12/site-packages (from jupyter-core->quarto->autopeptideml==2.0.2) (4.3.8)\n",
      "Requirement already satisfied: ptyprocess>=0.5 in /Users/raulfd/miniconda3/envs/pep2/lib/python3.12/site-packages (from pexpect>4.3->ipython>=7.23.1->ipykernel->quarto->autopeptideml==2.0.2) (0.7.0)\n",
      "Requirement already satisfied: fastjsonschema>=2.15 in /Users/raulfd/miniconda3/envs/pep2/lib/python3.12/site-packages (from nbformat->quarto->autopeptideml==2.0.2) (2.21.1)\n",
      "Requirement already satisfied: jsonschema>=2.6 in /Users/raulfd/miniconda3/envs/pep2/lib/python3.12/site-packages (from nbformat->quarto->autopeptideml==2.0.2) (4.24.0)\n",
      "Requirement already satisfied: attrs>=22.2.0 in /Users/raulfd/miniconda3/envs/pep2/lib/python3.12/site-packages (from jsonschema>=2.6->nbformat->quarto->autopeptideml==2.0.2) (25.3.0)\n",
      "Requirement already satisfied: jsonschema-specifications>=2023.03.6 in /Users/raulfd/miniconda3/envs/pep2/lib/python3.12/site-packages (from jsonschema>=2.6->nbformat->quarto->autopeptideml==2.0.2) (2025.4.1)\n",
      "Requirement already satisfied: referencing>=0.28.4 in /Users/raulfd/miniconda3/envs/pep2/lib/python3.12/site-packages (from jsonschema>=2.6->nbformat->quarto->autopeptideml==2.0.2) (0.36.2)\n",
      "Requirement already satisfied: rpds-py>=0.7.1 in /Users/raulfd/miniconda3/envs/pep2/lib/python3.12/site-packages (from jsonschema>=2.6->nbformat->quarto->autopeptideml==2.0.2) (0.26.0)\n",
      "Requirement already satisfied: Pillow in /Users/raulfd/miniconda3/envs/pep2/lib/python3.12/site-packages (from rdkit->autopeptideml==2.0.2) (11.2.1)\n",
      "Requirement already satisfied: joblib>=1.2.0 in /Users/raulfd/miniconda3/envs/pep2/lib/python3.12/site-packages (from scikit-learn->autopeptideml==2.0.2) (1.5.1)\n",
      "Requirement already satisfied: threadpoolctl>=3.1.0 in /Users/raulfd/miniconda3/envs/pep2/lib/python3.12/site-packages (from scikit-learn->autopeptideml==2.0.2) (3.6.0)\n",
      "Requirement already satisfied: matplotlib!=3.6.1,>=3.4 in /Users/raulfd/miniconda3/envs/pep2/lib/python3.12/site-packages (from seaborn->autopeptideml==2.0.2) (3.10.3)\n",
      "Requirement already satisfied: contourpy>=1.0.1 in /Users/raulfd/miniconda3/envs/pep2/lib/python3.12/site-packages (from matplotlib!=3.6.1,>=3.4->seaborn->autopeptideml==2.0.2) (1.3.2)\n",
      "Requirement already satisfied: cycler>=0.10 in /Users/raulfd/miniconda3/envs/pep2/lib/python3.12/site-packages (from matplotlib!=3.6.1,>=3.4->seaborn->autopeptideml==2.0.2) (0.12.1)\n",
      "Requirement already satisfied: fonttools>=4.22.0 in /Users/raulfd/miniconda3/envs/pep2/lib/python3.12/site-packages (from matplotlib!=3.6.1,>=3.4->seaborn->autopeptideml==2.0.2) (4.58.4)\n",
      "Requirement already satisfied: kiwisolver>=1.3.1 in /Users/raulfd/miniconda3/envs/pep2/lib/python3.12/site-packages (from matplotlib!=3.6.1,>=3.4->seaborn->autopeptideml==2.0.2) (1.4.8)\n",
      "Requirement already satisfied: pyparsing>=2.3.1 in /Users/raulfd/miniconda3/envs/pep2/lib/python3.12/site-packages (from matplotlib!=3.6.1,>=3.4->seaborn->autopeptideml==2.0.2) (3.2.3)\n",
      "Requirement already satisfied: executing>=1.2.0 in /Users/raulfd/miniconda3/envs/pep2/lib/python3.12/site-packages (from stack_data->ipython>=7.23.1->ipykernel->quarto->autopeptideml==2.0.2) (2.2.0)\n",
      "Requirement already satisfied: asttokens>=2.1.0 in /Users/raulfd/miniconda3/envs/pep2/lib/python3.12/site-packages (from stack_data->ipython>=7.23.1->ipykernel->quarto->autopeptideml==2.0.2) (3.0.0)\n",
      "Requirement already satisfied: pure_eval in /Users/raulfd/miniconda3/envs/pep2/lib/python3.12/site-packages (from stack_data->ipython>=7.23.1->ipykernel->quarto->autopeptideml==2.0.2) (0.2.3)\n",
      "Requirement already satisfied: mpmath<1.4,>=1.1.0 in /Users/raulfd/miniconda3/envs/pep2/lib/python3.12/site-packages (from sympy->onnxruntime->autopeptideml==2.0.2) (1.3.0)\n",
      "Requirement already satisfied: huggingface-hub<1.0,>=0.16.4 in /Users/raulfd/miniconda3/envs/pep2/lib/python3.12/site-packages (from tokenizers->autopeptideml==2.0.2) (0.33.0)\n",
      "Requirement already satisfied: filelock in /Users/raulfd/miniconda3/envs/pep2/lib/python3.12/site-packages (from huggingface-hub<1.0,>=0.16.4->tokenizers->autopeptideml==2.0.2) (3.18.0)\n",
      "Requirement already satisfied: fsspec>=2023.5.0 in /Users/raulfd/miniconda3/envs/pep2/lib/python3.12/site-packages (from huggingface-hub<1.0,>=0.16.4->tokenizers->autopeptideml==2.0.2) (2025.5.1)\n",
      "Requirement already satisfied: requests in /Users/raulfd/miniconda3/envs/pep2/lib/python3.12/site-packages (from huggingface-hub<1.0,>=0.16.4->tokenizers->autopeptideml==2.0.2) (2.32.4)\n",
      "Requirement already satisfied: hf-xet<2.0.0,>=1.1.2 in /Users/raulfd/miniconda3/envs/pep2/lib/python3.12/site-packages (from huggingface-hub<1.0,>=0.16.4->tokenizers->autopeptideml==2.0.2) (1.1.4)\n",
      "Requirement already satisfied: charset_normalizer<4,>=2 in /Users/raulfd/miniconda3/envs/pep2/lib/python3.12/site-packages (from requests->huggingface-hub<1.0,>=0.16.4->tokenizers->autopeptideml==2.0.2) (3.4.2)\n",
      "Requirement already satisfied: idna<4,>=2.5 in /Users/raulfd/miniconda3/envs/pep2/lib/python3.12/site-packages (from requests->huggingface-hub<1.0,>=0.16.4->tokenizers->autopeptideml==2.0.2) (3.10)\n",
      "Requirement already satisfied: urllib3<3,>=1.21.1 in /Users/raulfd/miniconda3/envs/pep2/lib/python3.12/site-packages (from requests->huggingface-hub<1.0,>=0.16.4->tokenizers->autopeptideml==2.0.2) (2.4.0)\n",
      "Requirement already satisfied: certifi>=2017.4.17 in /Users/raulfd/miniconda3/envs/pep2/lib/python3.12/site-packages (from requests->huggingface-hub<1.0,>=0.16.4->tokenizers->autopeptideml==2.0.2) (2025.6.15)\n",
      "Requirement already satisfied: setuptools in /Users/raulfd/miniconda3/envs/pep2/lib/python3.12/site-packages (from torch->autopeptideml==2.0.2) (80.9.0)\n",
      "Requirement already satisfied: networkx in /Users/raulfd/miniconda3/envs/pep2/lib/python3.12/site-packages (from torch->autopeptideml==2.0.2) (3.5)\n",
      "Requirement already satisfied: jinja2 in /Users/raulfd/miniconda3/envs/pep2/lib/python3.12/site-packages (from torch->autopeptideml==2.0.2) (3.1.6)\n",
      "Requirement already satisfied: regex!=2019.12.17 in /Users/raulfd/miniconda3/envs/pep2/lib/python3.12/site-packages (from transformers->autopeptideml==2.0.2) (2024.11.6)\n",
      "Requirement already satisfied: safetensors>=0.4.3 in /Users/raulfd/miniconda3/envs/pep2/lib/python3.12/site-packages (from transformers->autopeptideml==2.0.2) (0.5.3)\n",
      "Requirement already satisfied: click>=8.0.0 in /Users/raulfd/miniconda3/envs/pep2/lib/python3.12/site-packages (from typer->autopeptideml==2.0.2) (8.2.1)\n",
      "Requirement already satisfied: shellingham>=1.3.0 in /Users/raulfd/miniconda3/envs/pep2/lib/python3.12/site-packages (from typer->autopeptideml==2.0.2) (1.5.4)\n",
      "Requirement already satisfied: rich>=10.11.0 in /Users/raulfd/miniconda3/envs/pep2/lib/python3.12/site-packages (from typer->autopeptideml==2.0.2) (14.0.0)\n",
      "Requirement already satisfied: markdown-it-py>=2.2.0 in /Users/raulfd/miniconda3/envs/pep2/lib/python3.12/site-packages (from rich>=10.11.0->typer->autopeptideml==2.0.2) (3.0.0)\n",
      "Requirement already satisfied: mdurl~=0.1 in /Users/raulfd/miniconda3/envs/pep2/lib/python3.12/site-packages (from markdown-it-py>=2.2.0->rich>=10.11.0->typer->autopeptideml==2.0.2) (0.1.2)\n",
      "Building wheels for collected packages: autopeptideml\n",
      "\u001b[33m  DEPRECATION: Building 'autopeptideml' using the legacy setup.py bdist_wheel mechanism, which will be removed in a future version. pip 25.3 will enforce this behaviour change. A possible replacement is to use the standardized build interface by setting the `--use-pep517` option, (possibly combined with `--no-build-isolation`), or adding a `pyproject.toml` file to the source tree of 'autopeptideml'. Discussion can be found at https://github.com/pypa/pip/issues/6334\u001b[0m\u001b[33m\n",
      "\u001b[0m  Building wheel for autopeptideml (setup.py) ... \u001b[?25ldone\n",
      "\u001b[?25h  Created wheel for autopeptideml: filename=autopeptideml-2.0.2-py3-none-any.whl size=16978979 sha256=638721d4e1d59913991ade0e85d8c80dc837e137014ab2f788f3baea2fcbbdc2\n",
      "  Stored in directory: /private/var/folders/11/g_ww0v454tvd_q2jybl8p2180000gn/T/pip-ephem-wheel-cache-_02eu6et/wheels/9c/c6/f1/7ecf7a27375efab6e28e56e31c784ba646628e1c5d8d12d315\n",
      "Successfully built autopeptideml\n",
      "Installing collected packages: autopeptideml\n",
      "  Attempting uninstall: autopeptideml\n",
      "    Found existing installation: autopeptideml 2.0.2\n",
      "    Uninstalling autopeptideml-2.0.2:\n",
      "      Successfully uninstalled autopeptideml-2.0.2\n",
      "Successfully installed autopeptideml-2.0.2\n"
     ]
    }
   ],
   "source": [
    "!pip install git+https://github.com/IBM/AutoPeptideML"
   ]
  },
  {
   "cell_type": "code",
   "execution_count": 2,
   "id": "1bec09c5",
   "metadata": {},
   "outputs": [
    {
     "name": "stdout",
     "output_type": "stream",
     "text": [
      "Executing preprocessing step 1 of 2: to-smiles-1\n",
      "Executing preprocessing step 1 of 2: to-smiles-1a\n",
      "Executing preprocessing step 1 of 3: filter-smiles\n"
     ]
    },
    {
     "name": "stderr",
     "output_type": "stream",
     "text": [
      "100%|██████████| 321/321 [00:02<00:00, 115it/s]  \n"
     ]
    },
    {
     "name": "stdout",
     "output_type": "stream",
     "text": [
      "Executing preprocessing step 2 of 3: canonical-cleaner\n"
     ]
    },
    {
     "name": "stderr",
     "output_type": "stream",
     "text": [
      "100%|██████████| 100/100 [00:02<00:00, 35.9it/s] \n"
     ]
    },
    {
     "name": "stdout",
     "output_type": "stream",
     "text": [
      "Executing preprocessing step 3 of 3: sequence-to-smiles\n"
     ]
    },
    {
     "name": "stderr",
     "output_type": "stream",
     "text": [
      "100%|██████████| 100/100 [00:02<00:00, 33.8it/s] \n"
     ]
    },
    {
     "name": "stdout",
     "output_type": "stream",
     "text": [
      "Executing preprocessing step 2 of 2: to-smiles-1b\n",
      "Executing preprocessing step 1 of 1: filter-smiles\n"
     ]
    },
    {
     "name": "stderr",
     "output_type": "stream",
     "text": [
      "100%|██████████| 321/321 [00:02<00:00, 112it/s]  \n"
     ]
    },
    {
     "name": "stdout",
     "output_type": "stream",
     "text": [
      "Executing preprocessing step 2 of 2: canonicalize-smiles\n"
     ]
    },
    {
     "name": "stderr",
     "output_type": "stream",
     "text": [
      "100%|██████████| 321/321 [00:02<00:00, 111it/s]  \n"
     ]
    }
   ],
   "source": [
    "import pandas as pd\n",
    "from autopeptideml import AutoPeptideML\n",
    "\n",
    "# Load data\n",
    "df = pd.read_csv('c-antiviral.csv')\n",
    "df = df[df['labels'] == 1].sample(100)\n",
    "df2 = pd.read_csv('nc-antiviral.csv')\n",
    "df2 = df2[df2['labels'] == 1]\n",
    "all_inputs = df['sequence'].tolist() + df2['SMILES'].tolist()\n",
    "\n",
    "# Initialise AutoPeptideML\n",
    "apml = AutoPeptideML(\n",
    "    data=all_inputs,\n",
    "    outputdir='demo'\n",
    ")\n",
    "\n",
    "# Preprocess\n",
    "apml.preprocess_data(\n",
    "    pipeline='to-smiles',\n",
    "    n_jobs=5,\n",
    "    verbose=True\n",
    ")"
   ]
  },
  {
   "cell_type": "code",
   "execution_count": 3,
   "id": "a68c3722",
   "metadata": {},
   "outputs": [
    {
     "data": {
      "text/plain": [
       "label\n",
       "1    321\n",
       "Name: count, dtype: int64"
      ]
     },
     "execution_count": 3,
     "metadata": {},
     "output_type": "execute_result"
    }
   ],
   "source": [
    "# Check distribution of labels\n",
    "apml.df.label.value_counts()"
   ]
  },
  {
   "cell_type": "code",
   "execution_count": 4,
   "id": "774c33f5",
   "metadata": {},
   "outputs": [],
   "source": [
    "# Sample negatives\n",
    "apml.sample_negatives(\n",
    "    target_db='both',\n",
    "    activities_to_exclude='Antibacterial',\n",
    "    desired_ratio=1.0,\n",
    "    sample_by='mw',\n",
    "    n_jobs=10\n",
    ")"
   ]
  },
  {
   "cell_type": "code",
   "execution_count": 5,
   "id": "2652bcb2",
   "metadata": {},
   "outputs": [
    {
     "data": {
      "text/plain": [
       "label\n",
       "1    321\n",
       "0    321\n",
       "Name: count, dtype: int64"
      ]
     },
     "execution_count": 5,
     "metadata": {},
     "output_type": "execute_result"
    },
    {
     "data": {
      "image/png": "[encoded data removed]",
      "text/plain": [
       "<Figure size 640x480 with 1 Axes>"
      ]
     },
     "metadata": {},
     "output_type": "display_data"
    }
   ],
   "source": [
    "# Check distribution of labels after negative sampling\n",
    "import seaborn as sns\n",
    "\n",
    "sns.histplot(apml.df, x='mw', hue='label', kde=True, alpha=0.5)\n",
    "apml.df.label.value_counts()"
   ]
  },
  {
   "cell_type": "code",
   "execution_count": 6,
   "id": "ea75d0c0",
   "metadata": {},
   "outputs": [
    {
     "name": "stdout",
     "output_type": "stream",
     "text": [
      "Partitioning...\n",
      "Initialising Hestia Dataset Generator\n",
      "Number of items in data: 642\n",
      "Calculating similarity...\n",
      "Calculating molecular similarities using mapc with 2,048 bits, radius 4 and jaccard index...\n"
     ]
    },
    {
     "name": "stderr",
     "output_type": "stream",
     "text": [
      "Query FPs: 100%|██████████| 642/642 [01:33<00:00, 6.85it/s] \n",
      "Similarity calculation: 100%|██████████| 642/642 [00:00<00:00, 1.12kit/s]\n"
     ]
    },
    {
     "name": "stdout",
     "output_type": "stream",
     "text": [
      "Similarity successfully calculated!\n",
      "Calculating partitions...\n"
     ]
    },
    {
     "name": "stderr",
     "output_type": "stream",
     "text": [
      "100%|██████████| 8/8 [00:00<00:00, 106.15it/s]"
     ]
    },
    {
     "name": "stdout",
     "output_type": "stream",
     "text": [
      "Partitions successfully calculated!\n",
      "Executing preprocessing step 1 of 2: to-sequences-1\n",
      "Executing preprocessing step 1 of 2: to-sequences-1a\n",
      "Executing preprocessing step 1 of 1: filter-smiles\n"
     ]
    },
    {
     "name": "stderr",
     "output_type": "stream",
     "text": [
      "\n",
      "100%|██████████| 642/642 [00:03<00:00, 165it/s]  \n"
     ]
    },
    {
     "name": "stdout",
     "output_type": "stream",
     "text": [
      "Executing preprocessing step 2 of 2: to-sequences-1b\n",
      "Executing preprocessing step 1 of 2: filter-smiles\n"
     ]
    },
    {
     "name": "stderr",
     "output_type": "stream",
     "text": [
      "100%|██████████| 642/642 [00:03<00:00, 169it/s]  \n"
     ]
    },
    {
     "name": "stdout",
     "output_type": "stream",
     "text": [
      "Executing preprocessing step 2 of 2: smiles-to-sequence\n"
     ]
    },
    {
     "name": "stderr",
     "output_type": "stream",
     "text": [
      "100%|██████████| 642/642 [00:12<00:00, 53.2it/s] \n"
     ]
    },
    {
     "name": "stdout",
     "output_type": "stream",
     "text": [
      "Executing preprocessing step 2 of 2: canonical-cleaner\n"
     ]
    },
    {
     "name": "stderr",
     "output_type": "stream",
     "text": [
      "100%|██████████| 642/642 [00:03<00:00, 191it/s]  \n"
     ]
    },
    {
     "name": "stdout",
     "output_type": "stream",
     "text": [
      "Computing chemberta-2 representations...\n"
     ]
    },
    {
     "name": "stderr",
     "output_type": "stream",
     "text": [
      "100%|██████████| 6/6 [00:03<00:00,  1.78it/s]\n"
     ]
    },
    {
     "name": "stdout",
     "output_type": "stream",
     "text": [
      "Computing ecfp representations...\n"
     ]
    },
    {
     "name": "stderr",
     "output_type": "stream",
     "text": [
      "100%|██████████| 6/6 [00:00<00:00,  9.48it/s]\n"
     ]
    },
    {
     "name": "stdout",
     "output_type": "stream",
     "text": [
      "Computing esm2-8m representations...\n"
     ]
    },
    {
     "name": "stderr",
     "output_type": "stream",
     "text": [
      "100%|██████████| 6/6 [00:01<00:00,  3.82it/s]\n"
     ]
    },
    {
     "name": "stdout",
     "output_type": "stream",
     "text": [
      "Computing peptideclm representations...\n"
     ]
    },
    {
     "name": "stderr",
     "output_type": "stream",
     "text": [
      "100%|██████████| 41/41 [00:08<00:00,  4.94it/s]\n"
     ]
    },
    {
     "data": {
      "application/vnd.jupyter.widget-view+json": {
       "model_id": "c8dcc60c1ca442039c157186b8d893eb",
       "version_major": 2,
       "version_minor": 0
      },
      "text/plain": [
       "  0%|          | 0/50 [00:00<?, ?it/s]"
      ]
     },
     "metadata": {},
     "output_type": "display_data"
    }
   ],
   "source": [
    "# Build models\n",
    "apml.build_models(split_strategy='min',\n",
    "                  task='class',\n",
    "                  reps=['chemberta-2', 'ecfp', 'esm2-8m', 'peptideclm'],\n",
    "                  device='mps', # Change to cuda if using hardware acceleartion\n",
    "                  models=['svm', 'rf'],\n",
    "                  n_trials=50)"
   ]
  },
  {
   "cell_type": "code",
   "execution_count": 7,
   "id": "50e2fb75",
   "metadata": {},
   "outputs": [
    {
     "data": {
      "text/plain": [
       "<Axes: title={'center': 'Optimization history'}, xlabel='Trial', ylabel='MCC'>"
      ]
     },
     "execution_count": 7,
     "metadata": {},
     "output_type": "execute_result"
    },
    {
     "data": {
      "image/png": "[encoded data removed]",
      "text/plain": [
       "<Figure size 500x500 with 1 Axes>"
      ]
     },
     "metadata": {},
     "output_type": "display_data"
    }
   ],
   "source": [
    "from autopeptideml.utils.hpo_plots import plot_optimization_history\n",
    "\n",
    "plot_optimization_history(apml.trainer.history)"
   ]
  },
  {
   "cell_type": "code",
   "execution_count": 8,
   "id": "3c7e51fd",
   "metadata": {},
   "outputs": [
    {
     "data": {
      "text/plain": [
       "<Axes: title={'center': 'Model vs Representation (Annotated with Trial Count)'}, xlabel='Representation', ylabel='Model'>"
      ]
     },
     "execution_count": 8,
     "metadata": {},
     "output_type": "execute_result"
    },
    {
     "data": {
      "image/png": "[encoded data removed]",
      "text/plain": [
       "<Figure size 700x500 with 2 Axes>"
      ]
     },
     "metadata": {},
     "output_type": "display_data"
    }
   ],
   "source": [
    "from autopeptideml.utils.hpo_plots import plot_model_vs_rep\n",
    "\n",
    "plot_model_vs_rep(apml.trainer.history)"
   ]
  },
  {
   "cell_type": "code",
   "execution_count": 9,
   "id": "3b0a9414",
   "metadata": {},
   "outputs": [],
   "source": [
    "apml._evaluating(task='class')"
   ]
  },
  {
   "cell_type": "code",
   "execution_count": 10,
   "id": "fc83b6c9",
   "metadata": {},
   "outputs": [
    {
     "data": {
      "text/html": [
       "<div>\n",
       "<style scoped>\n",
       "    .dataframe tbody tr th:only-of-type {\n",
       "        vertical-align: middle;\n",
       "    }\n",
       "\n",
       "    .dataframe tbody tr th {\n",
       "        vertical-align: top;\n",
       "    }\n",
       "\n",
       "    .dataframe thead th {\n",
       "        text-align: right;\n",
       "    }\n",
       "</style>\n",
       "<table border=\"1\" class=\"dataframe\">\n",
       "  <thead>\n",
       "    <tr style=\"text-align: right;\">\n",
       "      <th></th>\n",
       "      <th>mcc</th>\n",
       "      <th>acc</th>\n",
       "      <th>f1</th>\n",
       "      <th>f1_weighted</th>\n",
       "      <th>precision</th>\n",
       "      <th>recall</th>\n",
       "      <th>auroc</th>\n",
       "      <th>tp</th>\n",
       "      <th>tn</th>\n",
       "      <th>fp</th>\n",
       "      <th>fn</th>\n",
       "      <th>name</th>\n",
       "      <th>variables</th>\n",
       "      <th>representation</th>\n",
       "      <th>fold</th>\n",
       "      <th>run</th>\n",
       "      <th>Representation</th>\n",
       "      <th>Model</th>\n",
       "      <th>Run</th>\n",
       "    </tr>\n",
       "  </thead>\n",
       "  <tbody>\n",
       "    <tr>\n",
       "      <th>0</th>\n",
       "      <td>0.660471</td>\n",
       "      <td>0.825243</td>\n",
       "      <td>0.823529</td>\n",
       "      <td>0.825111</td>\n",
       "      <td>0.893617</td>\n",
       "      <td>0.763636</td>\n",
       "      <td>0.898106</td>\n",
       "      <td>42</td>\n",
       "      <td>43</td>\n",
       "      <td>13</td>\n",
       "      <td>5</td>\n",
       "      <td>rf</td>\n",
       "      <td>{'n_estimators': 13, 'max_depth': 15, 'min_sam...</td>\n",
       "      <td>peptideclm</td>\n",
       "      <td>0</td>\n",
       "      <td>1</td>\n",
       "      <td>peptideclm</td>\n",
       "      <td>rf</td>\n",
       "      <td>1</td>\n",
       "    </tr>\n",
       "    <tr>\n",
       "      <th>1</th>\n",
       "      <td>0.699469</td>\n",
       "      <td>0.825243</td>\n",
       "      <td>0.804348</td>\n",
       "      <td>0.821944</td>\n",
       "      <td>1.000000</td>\n",
       "      <td>0.672727</td>\n",
       "      <td>0.832197</td>\n",
       "      <td>37</td>\n",
       "      <td>48</td>\n",
       "      <td>18</td>\n",
       "      <td>0</td>\n",
       "      <td>rf</td>\n",
       "      <td>{'n_estimators': 13, 'max_depth': 15, 'min_sam...</td>\n",
       "      <td>peptideclm</td>\n",
       "      <td>1</td>\n",
       "      <td>1</td>\n",
       "      <td>peptideclm</td>\n",
       "      <td>rf</td>\n",
       "      <td>1</td>\n",
       "    </tr>\n",
       "    <tr>\n",
       "      <th>2</th>\n",
       "      <td>0.816769</td>\n",
       "      <td>0.902913</td>\n",
       "      <td>0.901961</td>\n",
       "      <td>0.902839</td>\n",
       "      <td>0.978723</td>\n",
       "      <td>0.836364</td>\n",
       "      <td>0.926894</td>\n",
       "      <td>46</td>\n",
       "      <td>47</td>\n",
       "      <td>9</td>\n",
       "      <td>1</td>\n",
       "      <td>rf</td>\n",
       "      <td>{'n_estimators': 13, 'max_depth': 15, 'min_sam...</td>\n",
       "      <td>peptideclm</td>\n",
       "      <td>2</td>\n",
       "      <td>1</td>\n",
       "      <td>peptideclm</td>\n",
       "      <td>rf</td>\n",
       "      <td>1</td>\n",
       "    </tr>\n",
       "    <tr>\n",
       "      <th>3</th>\n",
       "      <td>0.715150</td>\n",
       "      <td>0.834951</td>\n",
       "      <td>0.821053</td>\n",
       "      <td>0.832823</td>\n",
       "      <td>1.000000</td>\n",
       "      <td>0.696429</td>\n",
       "      <td>0.898176</td>\n",
       "      <td>39</td>\n",
       "      <td>47</td>\n",
       "      <td>17</td>\n",
       "      <td>0</td>\n",
       "      <td>rf</td>\n",
       "      <td>{'n_estimators': 13, 'max_depth': 15, 'min_sam...</td>\n",
       "      <td>peptideclm</td>\n",
       "      <td>3</td>\n",
       "      <td>1</td>\n",
       "      <td>peptideclm</td>\n",
       "      <td>rf</td>\n",
       "      <td>1</td>\n",
       "    </tr>\n",
       "    <tr>\n",
       "      <th>4</th>\n",
       "      <td>0.646380</td>\n",
       "      <td>0.803922</td>\n",
       "      <td>0.787234</td>\n",
       "      <td>0.801494</td>\n",
       "      <td>0.948718</td>\n",
       "      <td>0.672727</td>\n",
       "      <td>0.880077</td>\n",
       "      <td>37</td>\n",
       "      <td>45</td>\n",
       "      <td>18</td>\n",
       "      <td>2</td>\n",
       "      <td>rf</td>\n",
       "      <td>{'n_estimators': 13, 'max_depth': 15, 'min_sam...</td>\n",
       "      <td>peptideclm</td>\n",
       "      <td>4</td>\n",
       "      <td>1</td>\n",
       "      <td>peptideclm</td>\n",
       "      <td>rf</td>\n",
       "      <td>1</td>\n",
       "    </tr>\n",
       "    <tr>\n",
       "      <th>...</th>\n",
       "      <td>...</td>\n",
       "      <td>...</td>\n",
       "      <td>...</td>\n",
       "      <td>...</td>\n",
       "      <td>...</td>\n",
       "      <td>...</td>\n",
       "      <td>...</td>\n",
       "      <td>...</td>\n",
       "      <td>...</td>\n",
       "      <td>...</td>\n",
       "      <td>...</td>\n",
       "      <td>...</td>\n",
       "      <td>...</td>\n",
       "      <td>...</td>\n",
       "      <td>...</td>\n",
       "      <td>...</td>\n",
       "      <td>...</td>\n",
       "      <td>...</td>\n",
       "      <td>...</td>\n",
       "    </tr>\n",
       "    <tr>\n",
       "      <th>0</th>\n",
       "      <td>0.656073</td>\n",
       "      <td>0.825243</td>\n",
       "      <td>0.826923</td>\n",
       "      <td>0.825342</td>\n",
       "      <td>0.877551</td>\n",
       "      <td>0.781818</td>\n",
       "      <td>0.890152</td>\n",
       "      <td>43</td>\n",
       "      <td>42</td>\n",
       "      <td>12</td>\n",
       "      <td>6</td>\n",
       "      <td>rf</td>\n",
       "      <td>{'n_estimators': 85, 'max_depth': 31, 'min_sam...</td>\n",
       "      <td>esm2-8m</td>\n",
       "      <td>0</td>\n",
       "      <td>28</td>\n",
       "      <td>esm2-8m</td>\n",
       "      <td>rf</td>\n",
       "      <td>28</td>\n",
       "    </tr>\n",
       "    <tr>\n",
       "      <th>1</th>\n",
       "      <td>0.665916</td>\n",
       "      <td>0.825243</td>\n",
       "      <td>0.820000</td>\n",
       "      <td>0.824748</td>\n",
       "      <td>0.911111</td>\n",
       "      <td>0.745455</td>\n",
       "      <td>0.881818</td>\n",
       "      <td>41</td>\n",
       "      <td>44</td>\n",
       "      <td>14</td>\n",
       "      <td>4</td>\n",
       "      <td>rf</td>\n",
       "      <td>{'n_estimators': 85, 'max_depth': 31, 'min_sam...</td>\n",
       "      <td>esm2-8m</td>\n",
       "      <td>1</td>\n",
       "      <td>28</td>\n",
       "      <td>esm2-8m</td>\n",
       "      <td>rf</td>\n",
       "      <td>28</td>\n",
       "    </tr>\n",
       "    <tr>\n",
       "      <th>2</th>\n",
       "      <td>0.755682</td>\n",
       "      <td>0.873786</td>\n",
       "      <td>0.873786</td>\n",
       "      <td>0.873786</td>\n",
       "      <td>0.937500</td>\n",
       "      <td>0.818182</td>\n",
       "      <td>0.931061</td>\n",
       "      <td>45</td>\n",
       "      <td>45</td>\n",
       "      <td>10</td>\n",
       "      <td>3</td>\n",
       "      <td>rf</td>\n",
       "      <td>{'n_estimators': 85, 'max_depth': 31, 'min_sam...</td>\n",
       "      <td>esm2-8m</td>\n",
       "      <td>2</td>\n",
       "      <td>28</td>\n",
       "      <td>esm2-8m</td>\n",
       "      <td>rf</td>\n",
       "      <td>28</td>\n",
       "    </tr>\n",
       "    <tr>\n",
       "      <th>3</th>\n",
       "      <td>0.738620</td>\n",
       "      <td>0.864078</td>\n",
       "      <td>0.865385</td>\n",
       "      <td>0.864180</td>\n",
       "      <td>0.937500</td>\n",
       "      <td>0.803571</td>\n",
       "      <td>0.942629</td>\n",
       "      <td>45</td>\n",
       "      <td>44</td>\n",
       "      <td>11</td>\n",
       "      <td>3</td>\n",
       "      <td>rf</td>\n",
       "      <td>{'n_estimators': 85, 'max_depth': 31, 'min_sam...</td>\n",
       "      <td>esm2-8m</td>\n",
       "      <td>3</td>\n",
       "      <td>28</td>\n",
       "      <td>esm2-8m</td>\n",
       "      <td>rf</td>\n",
       "      <td>28</td>\n",
       "    </tr>\n",
       "    <tr>\n",
       "      <th>4</th>\n",
       "      <td>0.712311</td>\n",
       "      <td>0.833333</td>\n",
       "      <td>0.817204</td>\n",
       "      <td>0.830863</td>\n",
       "      <td>1.000000</td>\n",
       "      <td>0.690909</td>\n",
       "      <td>0.861896</td>\n",
       "      <td>38</td>\n",
       "      <td>47</td>\n",
       "      <td>17</td>\n",
       "      <td>0</td>\n",
       "      <td>rf</td>\n",
       "      <td>{'n_estimators': 85, 'max_depth': 31, 'min_sam...</td>\n",
       "      <td>esm2-8m</td>\n",
       "      <td>4</td>\n",
       "      <td>28</td>\n",
       "      <td>esm2-8m</td>\n",
       "      <td>rf</td>\n",
       "      <td>28</td>\n",
       "    </tr>\n",
       "  </tbody>\n",
       "</table>\n",
       "<p>140 rows × 19 columns</p>\n",
       "</div>"
      ],
      "text/plain": [
       "         mcc       acc        f1  f1_weighted  precision    recall     auroc  \\\n",
       "0   0.660471  0.825243  0.823529     0.825111   0.893617  0.763636  0.898106   \n",
       "1   0.699469  0.825243  0.804348     0.821944   1.000000  0.672727  0.832197   \n",
       "2   0.816769  0.902913  0.901961     0.902839   0.978723  0.836364  0.926894   \n",
       "3   0.715150  0.834951  0.821053     0.832823   1.000000  0.696429  0.898176   \n",
       "4   0.646380  0.803922  0.787234     0.801494   0.948718  0.672727  0.880077   \n",
       "..       ...       ...       ...          ...        ...       ...       ...   \n",
       "0   0.656073  0.825243  0.826923     0.825342   0.877551  0.781818  0.890152   \n",
       "1   0.665916  0.825243  0.820000     0.824748   0.911111  0.745455  0.881818   \n",
       "2   0.755682  0.873786  0.873786     0.873786   0.937500  0.818182  0.931061   \n",
       "3   0.738620  0.864078  0.865385     0.864180   0.937500  0.803571  0.942629   \n",
       "4   0.712311  0.833333  0.817204     0.830863   1.000000  0.690909  0.861896   \n",
       "\n",
       "    tp  tn  fp  fn name                                          variables  \\\n",
       "0   42  43  13   5   rf  {'n_estimators': 13, 'max_depth': 15, 'min_sam...   \n",
       "1   37  48  18   0   rf  {'n_estimators': 13, 'max_depth': 15, 'min_sam...   \n",
       "2   46  47   9   1   rf  {'n_estimators': 13, 'max_depth': 15, 'min_sam...   \n",
       "3   39  47  17   0   rf  {'n_estimators': 13, 'max_depth': 15, 'min_sam...   \n",
       "4   37  45  18   2   rf  {'n_estimators': 13, 'max_depth': 15, 'min_sam...   \n",
       "..  ..  ..  ..  ..  ...                                                ...   \n",
       "0   43  42  12   6   rf  {'n_estimators': 85, 'max_depth': 31, 'min_sam...   \n",
       "1   41  44  14   4   rf  {'n_estimators': 85, 'max_depth': 31, 'min_sam...   \n",
       "2   45  45  10   3   rf  {'n_estimators': 85, 'max_depth': 31, 'min_sam...   \n",
       "3   45  44  11   3   rf  {'n_estimators': 85, 'max_depth': 31, 'min_sam...   \n",
       "4   38  47  17   0   rf  {'n_estimators': 85, 'max_depth': 31, 'min_sam...   \n",
       "\n",
       "   representation  fold  run Representation Model  Run  \n",
       "0      peptideclm     0    1     peptideclm    rf    1  \n",
       "1      peptideclm     1    1     peptideclm    rf    1  \n",
       "2      peptideclm     2    1     peptideclm    rf    1  \n",
       "3      peptideclm     3    1     peptideclm    rf    1  \n",
       "4      peptideclm     4    1     peptideclm    rf    1  \n",
       "..            ...   ...  ...            ...   ...  ...  \n",
       "0         esm2-8m     0   28        esm2-8m    rf   28  \n",
       "1         esm2-8m     1   28        esm2-8m    rf   28  \n",
       "2         esm2-8m     2   28        esm2-8m    rf   28  \n",
       "3         esm2-8m     3   28        esm2-8m    rf   28  \n",
       "4         esm2-8m     4   28        esm2-8m    rf   28  \n",
       "\n",
       "[140 rows x 19 columns]"
      ]
     },
     "execution_count": 10,
     "metadata": {},
     "output_type": "execute_result"
    }
   ],
   "source": [
    "apml.trainer.history"
   ]
  },
  {
   "cell_type": "code",
   "execution_count": 11,
   "id": "e505c962",
   "metadata": {},
   "outputs": [],
   "source": [
    "from os import path as osp\n",
    "\n",
    "input_trial = {rep: apml.x[rep][:10] for rep in apml.trainer.best_model.reps}\n",
    "preds = apml.trainer.best_model.predict(input_trial)\n",
    "\n",
    "apml.trainer.best_model.save(osp.join(apml.outputdir, 'ensemble'))"
   ]
  },
  {
   "cell_type": "code",
   "execution_count": 12,
   "id": "8e0c0fe3",
   "metadata": {},
   "outputs": [],
   "source": [
    "from autopeptideml.train.architectures import VotingEnsemble\n",
    "ensemble = VotingEnsemble.load(osp.join(apml.outputdir, 'ensemble'))\n",
    "\n",
    "\n",
    "preds = apml.trainer.best_model.predict(input_trial)[0]\n",
    "preds2 = ensemble.predict(input_trial)[0]\n"
   ]
  }
 ],
 "metadata": {
  "kernelspec": {
   "display_name": "pep2",
   "language": "python",
   "name": "python3"
  },
  "language_info": {
   "codemirror_mode": {
    "name": "ipython",
    "version": 3
   },
   "file_extension": ".py",
   "mimetype": "text/x-python",
   "name": "python",
   "nbconvert_exporter": "python",
   "pygments_lexer": "ipython3",
   "version": "3.12.11"
  }
 },
 "nbformat": 4,
 "nbformat_minor": 5
}
