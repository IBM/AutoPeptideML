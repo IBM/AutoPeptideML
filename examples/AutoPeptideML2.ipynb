{
 "cells": [
  {
   "cell_type": "markdown",
   "id": "d6b443ad",
   "metadata": {},
   "source": [
    "# Introduction\n",
    "\n",
    "This notebook shows how to use AutoPeptideML from its Python interface. Please, look at the upper right corner of the notebook and click on the three dots that say Connect. From there choose the option to 'Change runtime' and select T4 GPU runtime to get GPU acceleration. Otherwise, the notebook might take longer."
   ]
  },
  {
   "cell_type": "markdown",
   "id": "f85f246e",
   "metadata": {},
   "source": [
    "### 1. Prepare environment\n",
    "\n",
    "We start by setting up the environment by installing AutoPeptideML and its dependencies"
   ]
  },
  {
   "cell_type": "code",
   "execution_count": null,
   "id": "069b1ba2",
   "metadata": {},
   "outputs": [],
   "source": [
    "!pip install git+https://github.com/IBM/AutoPeptideML --quiet\n",
    "!pip install smilespe --quiet"
   ]
  },
  {
   "cell_type": "code",
   "execution_count": null,
   "id": "a905c2b4",
   "metadata": {},
   "outputs": [],
   "source": [
    "!wget https://raw.githubusercontent.com/IBM/PeptideGeneralizationBenchmarks/refs/heads/main/downstream_data/nc-antiviral.csv\n",
    "!wget https://raw.githubusercontent.com/IBM/PeptideGeneralizationBenchmarks/refs/heads/main/downstream_data/c-antiviral.csv"
   ]
  },
  {
   "cell_type": "markdown",
   "id": "04c8ab73",
   "metadata": {},
   "source": [
    "After this step the notebook might crash, that's fine, see instructions in the following cell"
   ]
  },
  {
   "cell_type": "code",
   "execution_count": null,
   "id": "d4f317c8",
   "metadata": {},
   "outputs": [],
   "source": [
    "!pip install numpy -U"
   ]
  },
  {
   "cell_type": "markdown",
   "id": "cb1f599c",
   "metadata": {},
   "source": [
    "The notebook might have crashed in the previous step, if so, please just continue executing from this cell on. Do not 'Run All', nor repeat the previous step as it will crash again."
   ]
  },
  {
   "cell_type": "markdown",
   "id": "2f8002fc",
   "metadata": {},
   "source": [
    "### 2. Loading data and Initializing AutoPeptideML\n",
    "\n",
    "First, take a look at the preprocessing pipelines that will be applied to the data.\n",
    "\n",
    "The `to-smiles` pipeline takes peptide sequences and trasnforms them into canonical SMILES according to the RDKit algorithm.\n",
    "\n",
    "The `to-sequences` pipeline takes peptide SMILES and transforms them into sequences of canonical amino acids. If a non-canonical amino acid was present in the sequence is transformed into its natural analog. If none is available it transforms it into the `X` residue."
   ]
  },
  {
   "cell_type": "code",
   "execution_count": null,
   "id": "d0bf31ce",
   "metadata": {},
   "outputs": [],
   "source": [
    "from autopeptideml.pipeline import get_pipeline\n",
    "\n",
    "to_smiles = get_pipeline('to-smiles')\n",
    "print(to_smiles)"
   ]
  },
  {
   "cell_type": "code",
   "execution_count": null,
   "id": "304c57fd",
   "metadata": {},
   "outputs": [],
   "source": [
    "to_sequences = get_pipeline('to-sequences')\n",
    "print(to_sequences)"
   ]
  },
  {
   "cell_type": "markdown",
   "id": "78ff7930",
   "metadata": {},
   "source": [
    "\n",
    "We define the dataset that we are going to use to build our model. There are three options:\n",
    "\n",
    "1. Training on natural (or canonical) peptides\n",
    "2. Training on modified (or non-canonical) peptides\n",
    "3. Training on a combination thereof\n",
    "\n",
    "Uncomment the code from the option you're interested in trying"
   ]
  },
  {
   "cell_type": "code",
   "execution_count": null,
   "id": "1bec09c5",
   "metadata": {},
   "outputs": [],
   "source": [
    "import pandas as pd\n",
    "from autopeptideml import AutoPeptideML\n",
    "\n",
    "# # Option 1 - Natural peptides\n",
    "# df = pd.read_csv('c-antiviral.csv')\n",
    "# df = df[df['labels'] == 1].sample(500, random_state=1)\n",
    "# db = 'canonical'\n",
    "# all_inputs = df['sequence'].tolist()\n",
    "\n",
    "# # Option 2 - Modified peptides\n",
    "# df2 = pd.read_csv('nc-antiviral.csv')\n",
    "# df2 = df2[df2['labels'] == 1]\n",
    "# db = 'non-canonical'\n",
    "# all_inputs = df2['SMILES'].tolist()\n",
    "\n",
    "# # Option 3 - Both\n",
    "# df = pd.read_csv('c-antiviral.csv')\n",
    "# df = df[df['labels'] == 1].sample(250, random_state=1)\n",
    "# df2 = pd.read_csv('nc-antiviral.csv')\n",
    "# df2 = df2[df2['labels'] == 1]\n",
    "# db = 'both'\n",
    "# all_inputs = df['sequence'].tolist() + df2['SMILES'].tolist()\n",
    "\n",
    "# Initialise AutoPeptideML\n",
    "apml = AutoPeptideML(\n",
    "    data=all_inputs,\n",
    "    outputdir='demo'\n",
    ")"
   ]
  },
  {
   "cell_type": "markdown",
   "id": "3ed4bf77",
   "metadata": {},
   "source": [
    "The original dataset does not have any negative peptides"
   ]
  },
  {
   "cell_type": "code",
   "execution_count": null,
   "id": "a68c3722",
   "metadata": {},
   "outputs": [],
   "source": [
    "# Check distribution of labels\n",
    "apml.df.label.value_counts()"
   ]
  },
  {
   "cell_type": "markdown",
   "id": "89ddff0a",
   "metadata": {},
   "source": [
    "### 2. Automatic negative sampling\n",
    "\n",
    "We sample the negative peptides from the dedicated database, with a proportion of negative/positive equal to `desired_ratio`."
   ]
  },
  {
   "cell_type": "code",
   "execution_count": null,
   "id": "774c33f5",
   "metadata": {},
   "outputs": [],
   "source": [
    "# Sample negatives\n",
    "apml.sample_negatives(\n",
    "    target_db=db,\n",
    "    activities_to_exclude='Antibacterial',\n",
    "    desired_ratio=1.0,\n",
    "    sample_by='mw',\n",
    "    n_jobs=10\n",
    ")"
   ]
  },
  {
   "cell_type": "markdown",
   "id": "3fc58784",
   "metadata": {},
   "source": [
    "Check now the label distribution"
   ]
  },
  {
   "cell_type": "code",
   "execution_count": null,
   "id": "2652bcb2",
   "metadata": {},
   "outputs": [],
   "source": [
    "# Check distribution of labels after negative sampling\n",
    "import seaborn as sns\n",
    "\n",
    "sns.histplot(apml.df, x='mw', hue='label', kde=True, alpha=0.5)\n",
    "apml.df.label.value_counts()"
   ]
  },
  {
   "cell_type": "code",
   "execution_count": null,
   "id": "f97647b2",
   "metadata": {},
   "outputs": [],
   "source": [
    "apml.df['apml-seqs'].isna().sum()"
   ]
  },
  {
   "cell_type": "markdown",
   "id": "e5101415",
   "metadata": {},
   "source": [
    "### 3. Build models\n",
    "\n",
    "Here there are two parameters we can change:\n",
    "\n",
    "1. `split-strategy`: it can be changed from `'min'` to `'random'`\n",
    "2. `sim-args`: are usually defined by default, here we are gonna compare sequence similarity to fingerprint similarity\n",
    "3. `reps`: select the method you would like to try"
   ]
  },
  {
   "cell_type": "code",
   "execution_count": null,
   "id": "5d4a5811",
   "metadata": {},
   "outputs": [],
   "source": [
    "!pip install transformers --no-cache-dir --quiet -U"
   ]
  },
  {
   "cell_type": "code",
   "execution_count": null,
   "id": "ea75d0c0",
   "metadata": {},
   "outputs": [],
   "source": [
    "# Build models\n",
    "from hestia import SimArguments, HestiaGenerator\n",
    "\n",
    "# Sim args - Option 1 - Fingerprint MAPc\n",
    "sim_args_mapc = SimArguments(\n",
    "    data_type='small molecule',\n",
    "    field_name='apml-smiles',\n",
    "    min_threshold=0.1,\n",
    "    sim_function='jaccard',\n",
    "    fingerprint='mapc',\n",
    "    radius=4,\n",
    "    bits=1024,\n",
    "    verbose=3\n",
    ")\n",
    "\n",
    "# Sim args - Option 2 - Fingerprint ECFP\n",
    "sim_args_ecfp = SimArguments(\n",
    "    data_type='small molecule',\n",
    "    field_name='apml-smiles',\n",
    "    min_threshold=0.1,\n",
    "    sim_function='tanimoto',\n",
    "    fingerprint='ecfp',\n",
    "    radius=4,\n",
    "    bits=1024,\n",
    "    verbose=3\n",
    ")\n",
    "\n",
    "# Sim args - Option 3 - Sequence similarity MMSeqs2\n",
    "sim_args_seq = SimArguments(\n",
    "    data_type='sequence',\n",
    "    field_name='apml-seqs',\n",
    "    min_threshold=0.1,\n",
    "    alignment_algorithm='mmseqs',\n",
    "    prefilter=True,\n",
    "    denominator='n_aligned',\n",
    "    verbose=3\n",
    ")\n",
    "\n",
    "apml.build_models(task='class',\n",
    "                  reps=['ecfp', 'chemberta-2', 'esm2-8m'], # Options: chemberta-2, peptideclm, molformer, fcfp, esm2-8m\n",
    "                  device='cuda', # Change to cuda if using hardware acceleartion\n",
    "                  models=['svm', 'rf'], # Options: knn, svm, rf, xgboost, lightgbm \n",
    "                  split_strategy='min',\n",
    "                  sim_args=sim_args_ecfp, # Options: sim_args_ecfp, sim_args_mapc, sim_args_\n",
    "                  n_trials=50)"
   ]
  },
  {
   "cell_type": "code",
   "execution_count": null,
   "id": "50e2fb75",
   "metadata": {},
   "outputs": [],
   "source": [
    "from autopeptideml.utils.plots import plot_optimization_history\n",
    "\n",
    "plot_optimization_history(apml.trainer.history)"
   ]
  },
  {
   "cell_type": "code",
   "execution_count": null,
   "id": "3c7e51fd",
   "metadata": {},
   "outputs": [],
   "source": [
    "from autopeptideml.utils.plots import plot_model_vs_rep\n",
    "\n",
    "plot_model_vs_rep(apml.trainer.history)"
   ]
  },
  {
   "cell_type": "code",
   "execution_count": null,
   "id": "3b0a9414",
   "metadata": {},
   "outputs": [],
   "source": [
    "apml._evaluating(task='class')\n",
    "apml.test_result"
   ]
  },
  {
   "cell_type": "code",
   "execution_count": null,
   "id": "e505c962",
   "metadata": {},
   "outputs": [],
   "source": [
    "from os import path as osp\n",
    "\n",
    "input_trial = {rep: apml.x[rep][:10] for rep in apml.trainer.best_model.reps}\n",
    "preds = apml.trainer.best_model.predict(input_trial)\n",
    "\n",
    "apml.trainer.best_model.save(osp.join(apml.outputdir, 'ensemble'))"
   ]
  },
  {
   "cell_type": "code",
   "execution_count": null,
   "id": "8e0c0fe3",
   "metadata": {},
   "outputs": [],
   "source": [
    "from autopeptideml.train.architectures import VotingEnsemble\n",
    "ensemble = VotingEnsemble.load(osp.join(apml.outputdir, 'ensemble'))\n",
    "\n",
    "\n",
    "preds = apml.trainer.best_model.predict(input_trial)[0]\n",
    "preds2 = ensemble.predict(input_trial)[0]\n"
   ]
  }
 ],
 "metadata": {
  "kernelspec": {
   "display_name": "pep2",
   "language": "python",
   "name": "python3"
  },
  "language_info": {
   "codemirror_mode": {
    "name": "ipython",
    "version": 3
   },
   "file_extension": ".py",
   "mimetype": "text/x-python",
   "name": "python",
   "nbconvert_exporter": "python",
   "pygments_lexer": "ipython3",
   "version": "3.12.11"
  }
 },
 "nbformat": 4,
 "nbformat_minor": 5
}
