{
 "cells": [
  {
   "cell_type": "code",
   "execution_count": null,
   "id": "1bec09c5",
   "metadata": {},
   "outputs": [
    {
     "name": "stdout",
     "output_type": "stream",
     "text": [
      "Executing preprocessing step 1 of 2: to-smiles-1\n",
      "Executing preprocessing step 1 of 2: to-smiles-1a\n",
      "Executing preprocessing step 1 of 3: filter-smiles\n"
     ]
    },
    {
     "name": "stderr",
     "output_type": "stream",
     "text": [
      "100%|██████████| 19.6k/19.6k [00:03<00:00, 5.05kit/s] \n"
     ]
    },
    {
     "name": "stdout",
     "output_type": "stream",
     "text": [
      "Executing preprocessing step 2 of 3: canonical-cleaner\n"
     ]
    },
    {
     "name": "stderr",
     "output_type": "stream",
     "text": [
      "100%|██████████| 9.78k/9.78k [00:02<00:00, 3.52kit/s]\n"
     ]
    },
    {
     "name": "stdout",
     "output_type": "stream",
     "text": [
      "Executing preprocessing step 3 of 3: sequence-to-smiles\n"
     ]
    },
    {
     "name": "stderr",
     "output_type": "stream",
     "text": [
      "100%|██████████| 9.78k/9.78k [00:03<00:00, 2.67kit/s]\n"
     ]
    },
    {
     "name": "stdout",
     "output_type": "stream",
     "text": [
      "Executing preprocessing step 2 of 2: to-smiles-1b\n",
      "Executing preprocessing step 1 of 1: filter-smiles\n"
     ]
    },
    {
     "name": "stderr",
     "output_type": "stream",
     "text": [
      "100%|██████████| 19.6k/19.6k [00:03<00:00, 5.16kit/s] \n"
     ]
    },
    {
     "name": "stdout",
     "output_type": "stream",
     "text": [
      "Executing preprocessing step 2 of 2: canonicalize-smiles\n"
     ]
    },
    {
     "name": "stderr",
     "output_type": "stream",
     "text": [
      "100%|██████████| 19.6k/19.6k [00:05<00:00, 3.49kit/s] \n"
     ]
    }
   ],
   "source": [
    "import pandas as pd\n",
    "from autopeptideml import AutoPeptideML\n",
    "\n",
    "# Load data\n",
    "df = pd.read_csv('antibacterial_data_canonical.csv')\n",
    "df2 = pd.read_csv('antibacterial_data_noncanonical.csv')\n",
    "all_inputs = df['sequence'].tolist() + df['SMILES'].tolist()\n",
    "\n",
    "# Initialise AutoPeptideML\n",
    "apml = AutoPeptideML(\n",
    "    data=all_inputs,\n",
    "    outputdir='demo'\n",
    ")\n",
    "\n",
    "# Preprocess\n",
    "apml.preprocess_data(\n",
    "    pipeline='to-smiles',\n",
    "    n_jobs=5,\n",
    "    verbose=True\n",
    ")\n",
    "\n",
    "# Build models\n",
    "apml.build_models(split_strategy='min',\n",
    "                  task='class',\n",
    "                  reps=['chemberta-2', 'ecfp', 'esm2-8m',\n",
    "                        'peptideclm'],\n",
    "                  device='mps',\n",
    "                  n_trials=200)"
   ]
  },
  {
   "cell_type": "code",
   "execution_count": null,
   "id": "625f6ab1",
   "metadata": {},
   "outputs": [
    {
     "ename": "",
     "evalue": "",
     "output_type": "error",
     "traceback": [
      "\u001b[1;31mThe Kernel crashed while executing code in the current cell or a previous cell. \n",
      "\u001b[1;31mPlease review the code in the cell(s) to identify a possible cause of the failure. \n",
      "\u001b[1;31mClick <a href='https://aka.ms/vscodeJupyterKernelCrash'>here</a> for more info. \n",
      "\u001b[1;31mView Jupyter <a href='command:jupyter.viewOutput'>log</a> for further details."
     ]
    }
   ],
   "source": [
    "# Sample negatives\n",
    "apml.sample_negatives(\n",
    "    target_db='both',\n",
    "    activities_to_exclude='Antibacterial',\n",
    "    desired_ratio=1.0,\n",
    "    sample_by='mw',\n",
    "    n_jobs=10\n",
    ")"
   ]
  },
  {
   "cell_type": "code",
   "execution_count": null,
   "id": "f0f9812a",
   "metadata": {},
   "outputs": [
    {
     "name": "stdout",
     "output_type": "stream",
     "text": [
      "Initialising Hestia Dataset Generator\n",
      "Number of items in data: 39,112\n",
      "Calculating similarity...\n",
      "Calculating molecular similarities using ecfp with 1,024 bits, radius 4 and tanimoto index...\n"
     ]
    },
    {
     "name": "stderr",
     "output_type": "stream",
     "text": [
      "Query FPs: 100%|██████████| 39.1k/39.1k [00:33<00:00, 1.15kit/s]\n",
      "Similarity calculation:  51%|█████     | 19.8k/39.1k [12:07<04:51, 66.3it/s]   "
     ]
    }
   ],
   "source": [
    "# Build model\n",
    "from hestia import HestiaGenerator, SimArguments\n",
    "\n",
    "sim_args = SimArguments(\n",
    "    data_type='small molecule', fingerprint='ecfp',\n",
    "    radius=4, min_threshold=0.1,\n",
    "    verbose=3, field_name=apml.sequence_field,\n",
    ")\n",
    "hdg = HestiaGenerator(apml.df, verbose=True)\n",
    "hdg.calculate_partitions(\n",
    "    sim_args=sim_args, label_name=apml.label_field,\n",
    "    min_threshold=0.1, threshold_step=0.1)\n",
    "\n",
    "apml.build_models(split_strategy='min',\n",
    "                  task='class',\n",
    "                  hestia_generator=hdg,\n",
    "                  reps=['chemberta-2', 'ecfp', 'esm2-8m', 'peptideclm'],\n",
    "                  device='mps',\n",
    "                  n_trials=200)"
   ]
  },
  {
   "cell_type": "code",
   "execution_count": null,
   "id": "50e2fb75",
   "metadata": {},
   "outputs": [],
   "source": [
    "from autopeptideml.utils.hpo_plots import plot_optimization_history\n",
    "\n",
    "plot_optimization_history(apml.trainer.history)"
   ]
  },
  {
   "cell_type": "code",
   "execution_count": null,
   "id": "3c7e51fd",
   "metadata": {},
   "outputs": [],
   "source": [
    "from autopeptideml.utils.hpo_plots import plot_model_vs_rep\n",
    "\n",
    "plot_model_vs_rep(apml.trainer.history)"
   ]
  },
  {
   "cell_type": "code",
   "execution_count": null,
   "id": "3b0a9414",
   "metadata": {},
   "outputs": [],
   "source": [
    "apml._evaluating()"
   ]
  },
  {
   "cell_type": "code",
   "execution_count": null,
   "id": "fc83b6c9",
   "metadata": {},
   "outputs": [],
   "source": [
    "apml.trainer.history"
   ]
  },
  {
   "cell_type": "code",
   "execution_count": null,
   "id": "e505c962",
   "metadata": {},
   "outputs": [],
   "source": [
    "from os import path as osp\n",
    "\n",
    "input_trial = {rep: apml.x[rep][:10] for rep in apml.trainer.best_model.reps}\n",
    "preds = apml.trainer.best_model.predict(input_trial)\n",
    "\n",
    "apml.trainer.best_model.save(osp.join(apml.outputdir, 'ensemble'))"
   ]
  },
  {
   "cell_type": "code",
   "execution_count": null,
   "id": "8e0c0fe3",
   "metadata": {},
   "outputs": [],
   "source": [
    "from autopeptideml.train.architectures import VotingEnsemble\n",
    "ensemble = VotingEnsemble.load(osp.join(apml.outputdir, 'ensemble'))\n",
    "\n",
    "preds = apml.trainer.best_model.predict(input_trial)[0]\n",
    "preds2 = ensemble.predict(input_trial)[0]\n"
   ]
  }
 ],
 "metadata": {
  "kernelspec": {
   "display_name": "pep",
   "language": "python",
   "name": "python3"
  },
  "language_info": {
   "codemirror_mode": {
    "name": "ipython",
    "version": 3
   },
   "file_extension": ".py",
   "mimetype": "text/x-python",
   "name": "python",
   "nbconvert_exporter": "python",
   "pygments_lexer": "ipython3",
   "version": "3.12.8"
  }
 },
 "nbformat": 4,
 "nbformat_minor": 5
}
